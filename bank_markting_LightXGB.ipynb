{
 "cells": [
  {
   "cell_type": "raw",
   "metadata": {},
   "source": [
    "Title: Bank Marketing\n",
    "\n",
    "Sources： Created by: Paulo Cortez (Univ. Minho) and Sérgio Moro (ISCTE-IUL) @ 2012\n",
    "download from : UCI dataset\n",
    "\n",
    "Relevant Information:\n",
    "\n",
    "   The data is related with direct marketing campaigns of a Portuguese banking institution. \n",
    "   The marketing campaigns were based on phone calls. Often, more than one contact to the same client was required, \n",
    "   in order to access if the product (bank term deposit) would be (or not) subscribed. \n",
    "\n",
    "    1- age (numeric)\n",
    "    2 - job : type of job (categorical: \"admin.\",\"unknown\",\"unemployed\",\"management\",\"housemaid\",\"entrepreneur\",\"student\",\n",
    "                                           \"blue-collar\",\"self-employed\",\"retired\",\"technician\",\"services\") \n",
    "    3 - marital : marital status (categorical: \"married\",\"divorced\",\"single\"; note: \"divorced\" means divorced or widowed)\n",
    "    4 - education (categorical: \"unknown\",\"secondary\",\"primary\",\"tertiary\")\n",
    "    5 - default: has credit in default? (binary: \"yes\",\"no\")\n",
    "    6 - balance: average yearly balance, in euros (numeric) \n",
    "    7 - housing: has housing loan? (binary: \"yes\",\"no\")\n",
    "    8 - loan: has personal loan? (binary: \"yes\",\"no\")\n",
    " # related with the last contact of the current campaign:\n",
    "    9 - contact: contact communication type (categorical: \"unknown\",\"telephone\",\"cellular\") \n",
    "    10 - day: last contact day of the month (numeric)\n",
    "    11 - month: last contact month of year (categorical: \"jan\", \"feb\", \"mar\", ..., \"nov\", \"dec\")\n",
    "    12 - duration: last contact duration, in seconds (numeric)\n",
    " # other attributes:\n",
    "    13 - campaign: number of contacts performed during this campaign and for this client (numeric, includes last contact)\n",
    "    14 - pdays: number of days that passed by after the client was last contacted from a previous campaign (numeric, -1 means \n",
    "                client was not previously contacted)\n",
    "    15 - previous: number of contacts performed before this campaign and for this client (numeric)\n",
    "    16 - poutcome: outcome of the previous marketing campaign (categorical: \"unknown\",\"other\",\"failure\",\"success\")\n",
    "\n",
    " # Output variable (desired target):\n",
    "    17 - y - has the client subscribed a term deposit? (binary: \"yes\",\"no\")\n",
    "\n",
    "\n",
    "\n",
    "'day', 'month', 'duration'是倒果為因的欄位， 故用剩下的欄位進行訓練"
   ]
  },
  {
   "cell_type": "code",
   "execution_count": 1,
   "metadata": {},
   "outputs": [],
   "source": [
    "import pandas as pd\n",
    "df = pd.read_csv(\"bank-full.csv\",encoding=\"utf-8\",sep =\";\")"
   ]
  },
  {
   "cell_type": "code",
   "execution_count": 2,
   "metadata": {},
   "outputs": [
    {
     "data": {
      "text/html": [
       "<div>\n",
       "<style scoped>\n",
       "    .dataframe tbody tr th:only-of-type {\n",
       "        vertical-align: middle;\n",
       "    }\n",
       "\n",
       "    .dataframe tbody tr th {\n",
       "        vertical-align: top;\n",
       "    }\n",
       "\n",
       "    .dataframe thead th {\n",
       "        text-align: right;\n",
       "    }\n",
       "</style>\n",
       "<table border=\"1\" class=\"dataframe\">\n",
       "  <thead>\n",
       "    <tr style=\"text-align: right;\">\n",
       "      <th></th>\n",
       "      <th>age</th>\n",
       "      <th>job</th>\n",
       "      <th>marital</th>\n",
       "      <th>education</th>\n",
       "      <th>default</th>\n",
       "      <th>balance</th>\n",
       "      <th>housing</th>\n",
       "      <th>loan</th>\n",
       "      <th>contact</th>\n",
       "      <th>day</th>\n",
       "      <th>month</th>\n",
       "      <th>duration</th>\n",
       "      <th>campaign</th>\n",
       "      <th>pdays</th>\n",
       "      <th>previous</th>\n",
       "      <th>poutcome</th>\n",
       "      <th>y</th>\n",
       "    </tr>\n",
       "  </thead>\n",
       "  <tbody>\n",
       "    <tr>\n",
       "      <td>0</td>\n",
       "      <td>58</td>\n",
       "      <td>management</td>\n",
       "      <td>married</td>\n",
       "      <td>tertiary</td>\n",
       "      <td>no</td>\n",
       "      <td>2143</td>\n",
       "      <td>yes</td>\n",
       "      <td>no</td>\n",
       "      <td>unknown</td>\n",
       "      <td>5</td>\n",
       "      <td>may</td>\n",
       "      <td>261</td>\n",
       "      <td>1</td>\n",
       "      <td>-1</td>\n",
       "      <td>0</td>\n",
       "      <td>unknown</td>\n",
       "      <td>no</td>\n",
       "    </tr>\n",
       "    <tr>\n",
       "      <td>1</td>\n",
       "      <td>44</td>\n",
       "      <td>technician</td>\n",
       "      <td>single</td>\n",
       "      <td>secondary</td>\n",
       "      <td>no</td>\n",
       "      <td>29</td>\n",
       "      <td>yes</td>\n",
       "      <td>no</td>\n",
       "      <td>unknown</td>\n",
       "      <td>5</td>\n",
       "      <td>may</td>\n",
       "      <td>151</td>\n",
       "      <td>1</td>\n",
       "      <td>-1</td>\n",
       "      <td>0</td>\n",
       "      <td>unknown</td>\n",
       "      <td>no</td>\n",
       "    </tr>\n",
       "    <tr>\n",
       "      <td>2</td>\n",
       "      <td>33</td>\n",
       "      <td>entrepreneur</td>\n",
       "      <td>married</td>\n",
       "      <td>secondary</td>\n",
       "      <td>no</td>\n",
       "      <td>2</td>\n",
       "      <td>yes</td>\n",
       "      <td>yes</td>\n",
       "      <td>unknown</td>\n",
       "      <td>5</td>\n",
       "      <td>may</td>\n",
       "      <td>76</td>\n",
       "      <td>1</td>\n",
       "      <td>-1</td>\n",
       "      <td>0</td>\n",
       "      <td>unknown</td>\n",
       "      <td>no</td>\n",
       "    </tr>\n",
       "    <tr>\n",
       "      <td>3</td>\n",
       "      <td>47</td>\n",
       "      <td>blue-collar</td>\n",
       "      <td>married</td>\n",
       "      <td>unknown</td>\n",
       "      <td>no</td>\n",
       "      <td>1506</td>\n",
       "      <td>yes</td>\n",
       "      <td>no</td>\n",
       "      <td>unknown</td>\n",
       "      <td>5</td>\n",
       "      <td>may</td>\n",
       "      <td>92</td>\n",
       "      <td>1</td>\n",
       "      <td>-1</td>\n",
       "      <td>0</td>\n",
       "      <td>unknown</td>\n",
       "      <td>no</td>\n",
       "    </tr>\n",
       "    <tr>\n",
       "      <td>4</td>\n",
       "      <td>33</td>\n",
       "      <td>unknown</td>\n",
       "      <td>single</td>\n",
       "      <td>unknown</td>\n",
       "      <td>no</td>\n",
       "      <td>1</td>\n",
       "      <td>no</td>\n",
       "      <td>no</td>\n",
       "      <td>unknown</td>\n",
       "      <td>5</td>\n",
       "      <td>may</td>\n",
       "      <td>198</td>\n",
       "      <td>1</td>\n",
       "      <td>-1</td>\n",
       "      <td>0</td>\n",
       "      <td>unknown</td>\n",
       "      <td>no</td>\n",
       "    </tr>\n",
       "    <tr>\n",
       "      <td>...</td>\n",
       "      <td>...</td>\n",
       "      <td>...</td>\n",
       "      <td>...</td>\n",
       "      <td>...</td>\n",
       "      <td>...</td>\n",
       "      <td>...</td>\n",
       "      <td>...</td>\n",
       "      <td>...</td>\n",
       "      <td>...</td>\n",
       "      <td>...</td>\n",
       "      <td>...</td>\n",
       "      <td>...</td>\n",
       "      <td>...</td>\n",
       "      <td>...</td>\n",
       "      <td>...</td>\n",
       "      <td>...</td>\n",
       "      <td>...</td>\n",
       "    </tr>\n",
       "    <tr>\n",
       "      <td>45206</td>\n",
       "      <td>51</td>\n",
       "      <td>technician</td>\n",
       "      <td>married</td>\n",
       "      <td>tertiary</td>\n",
       "      <td>no</td>\n",
       "      <td>825</td>\n",
       "      <td>no</td>\n",
       "      <td>no</td>\n",
       "      <td>cellular</td>\n",
       "      <td>17</td>\n",
       "      <td>nov</td>\n",
       "      <td>977</td>\n",
       "      <td>3</td>\n",
       "      <td>-1</td>\n",
       "      <td>0</td>\n",
       "      <td>unknown</td>\n",
       "      <td>yes</td>\n",
       "    </tr>\n",
       "    <tr>\n",
       "      <td>45207</td>\n",
       "      <td>71</td>\n",
       "      <td>retired</td>\n",
       "      <td>divorced</td>\n",
       "      <td>primary</td>\n",
       "      <td>no</td>\n",
       "      <td>1729</td>\n",
       "      <td>no</td>\n",
       "      <td>no</td>\n",
       "      <td>cellular</td>\n",
       "      <td>17</td>\n",
       "      <td>nov</td>\n",
       "      <td>456</td>\n",
       "      <td>2</td>\n",
       "      <td>-1</td>\n",
       "      <td>0</td>\n",
       "      <td>unknown</td>\n",
       "      <td>yes</td>\n",
       "    </tr>\n",
       "    <tr>\n",
       "      <td>45208</td>\n",
       "      <td>72</td>\n",
       "      <td>retired</td>\n",
       "      <td>married</td>\n",
       "      <td>secondary</td>\n",
       "      <td>no</td>\n",
       "      <td>5715</td>\n",
       "      <td>no</td>\n",
       "      <td>no</td>\n",
       "      <td>cellular</td>\n",
       "      <td>17</td>\n",
       "      <td>nov</td>\n",
       "      <td>1127</td>\n",
       "      <td>5</td>\n",
       "      <td>184</td>\n",
       "      <td>3</td>\n",
       "      <td>success</td>\n",
       "      <td>yes</td>\n",
       "    </tr>\n",
       "    <tr>\n",
       "      <td>45209</td>\n",
       "      <td>57</td>\n",
       "      <td>blue-collar</td>\n",
       "      <td>married</td>\n",
       "      <td>secondary</td>\n",
       "      <td>no</td>\n",
       "      <td>668</td>\n",
       "      <td>no</td>\n",
       "      <td>no</td>\n",
       "      <td>telephone</td>\n",
       "      <td>17</td>\n",
       "      <td>nov</td>\n",
       "      <td>508</td>\n",
       "      <td>4</td>\n",
       "      <td>-1</td>\n",
       "      <td>0</td>\n",
       "      <td>unknown</td>\n",
       "      <td>no</td>\n",
       "    </tr>\n",
       "    <tr>\n",
       "      <td>45210</td>\n",
       "      <td>37</td>\n",
       "      <td>entrepreneur</td>\n",
       "      <td>married</td>\n",
       "      <td>secondary</td>\n",
       "      <td>no</td>\n",
       "      <td>2971</td>\n",
       "      <td>no</td>\n",
       "      <td>no</td>\n",
       "      <td>cellular</td>\n",
       "      <td>17</td>\n",
       "      <td>nov</td>\n",
       "      <td>361</td>\n",
       "      <td>2</td>\n",
       "      <td>188</td>\n",
       "      <td>11</td>\n",
       "      <td>other</td>\n",
       "      <td>no</td>\n",
       "    </tr>\n",
       "  </tbody>\n",
       "</table>\n",
       "<p>45211 rows × 17 columns</p>\n",
       "</div>"
      ],
      "text/plain": [
       "       age           job   marital  education default  balance housing loan  \\\n",
       "0       58    management   married   tertiary      no     2143     yes   no   \n",
       "1       44    technician    single  secondary      no       29     yes   no   \n",
       "2       33  entrepreneur   married  secondary      no        2     yes  yes   \n",
       "3       47   blue-collar   married    unknown      no     1506     yes   no   \n",
       "4       33       unknown    single    unknown      no        1      no   no   \n",
       "...    ...           ...       ...        ...     ...      ...     ...  ...   \n",
       "45206   51    technician   married   tertiary      no      825      no   no   \n",
       "45207   71       retired  divorced    primary      no     1729      no   no   \n",
       "45208   72       retired   married  secondary      no     5715      no   no   \n",
       "45209   57   blue-collar   married  secondary      no      668      no   no   \n",
       "45210   37  entrepreneur   married  secondary      no     2971      no   no   \n",
       "\n",
       "         contact  day month  duration  campaign  pdays  previous poutcome    y  \n",
       "0        unknown    5   may       261         1     -1         0  unknown   no  \n",
       "1        unknown    5   may       151         1     -1         0  unknown   no  \n",
       "2        unknown    5   may        76         1     -1         0  unknown   no  \n",
       "3        unknown    5   may        92         1     -1         0  unknown   no  \n",
       "4        unknown    5   may       198         1     -1         0  unknown   no  \n",
       "...          ...  ...   ...       ...       ...    ...       ...      ...  ...  \n",
       "45206   cellular   17   nov       977         3     -1         0  unknown  yes  \n",
       "45207   cellular   17   nov       456         2     -1         0  unknown  yes  \n",
       "45208   cellular   17   nov      1127         5    184         3  success  yes  \n",
       "45209  telephone   17   nov       508         4     -1         0  unknown   no  \n",
       "45210   cellular   17   nov       361         2    188        11    other   no  \n",
       "\n",
       "[45211 rows x 17 columns]"
      ]
     },
     "execution_count": 2,
     "metadata": {},
     "output_type": "execute_result"
    }
   ],
   "source": [
    "df"
   ]
  },
  {
   "cell_type": "code",
   "execution_count": 3,
   "metadata": {},
   "outputs": [],
   "source": [
    "# 二分類欄位的處理\n",
    "\n",
    "binary_col=[\"default\",\"housing\",\"loan\",\"y\"]\n",
    "for col in binary_col:\n",
    "    df[col]=df[col].apply(lambda x: 1 if x =='yes' else 0)"
   ]
  },
  {
   "cell_type": "code",
   "execution_count": 4,
   "metadata": {},
   "outputs": [
    {
     "data": {
      "text/plain": [
       "'資料分析'"
      ]
     },
     "execution_count": 4,
     "metadata": {},
     "output_type": "execute_result"
    }
   ],
   "source": [
    "'''資料分析'''"
   ]
  },
  {
   "cell_type": "code",
   "execution_count": 5,
   "metadata": {},
   "outputs": [
    {
     "data": {
      "text/plain": [
       "age          0\n",
       "job          0\n",
       "marital      0\n",
       "education    0\n",
       "default      0\n",
       "balance      0\n",
       "housing      0\n",
       "loan         0\n",
       "contact      0\n",
       "day          0\n",
       "month        0\n",
       "duration     0\n",
       "campaign     0\n",
       "pdays        0\n",
       "previous     0\n",
       "poutcome     0\n",
       "y            0\n",
       "dtype: int64"
      ]
     },
     "execution_count": 5,
     "metadata": {},
     "output_type": "execute_result"
    }
   ],
   "source": [
    "# 資料中沒有na\n",
    "df.isnull().sum()"
   ]
  },
  {
   "cell_type": "code",
   "execution_count": 6,
   "metadata": {},
   "outputs": [
    {
     "data": {
      "text/plain": [
       "0    39922\n",
       "1     5289\n",
       "Name: y, dtype: int64"
      ]
     },
     "execution_count": 6,
     "metadata": {},
     "output_type": "execute_result"
    }
   ],
   "source": [
    "#y的數量\n",
    "df.y.value_counts()"
   ]
  },
  {
   "cell_type": "code",
   "execution_count": 7,
   "metadata": {},
   "outputs": [
    {
     "data": {
      "text/plain": [
       "<matplotlib.axes._subplots.AxesSubplot at 0x19a317f0>"
      ]
     },
     "execution_count": 7,
     "metadata": {},
     "output_type": "execute_result"
    }
   ],
   "source": [
    "# job的數量\n",
    "import seaborn as sns\n",
    "sns.countplot(y='job', data=df)"
   ]
  },
  {
   "cell_type": "code",
   "execution_count": 8,
   "metadata": {},
   "outputs": [
    {
     "data": {
      "text/plain": [
       "<matplotlib.axes._subplots.AxesSubplot at 0x1bc55b00>"
      ]
     },
     "execution_count": 8,
     "metadata": {},
     "output_type": "execute_result"
    },
    {
     "data": {
      "image/png": "[encoded data removed]",
      "text/plain": [
       "<Figure size 432x288 with 1 Axes>"
      ]
     },
     "metadata": {
      "needs_background": "light"
     },
     "output_type": "display_data"
    }
   ],
   "source": [
    "# education的數量\n",
    "import seaborn as sns\n",
    "sns.countplot(x='education', data=df)"
   ]
  },
  {
   "cell_type": "code",
   "execution_count": 9,
   "metadata": {},
   "outputs": [
    {
     "data": {
      "text/html": [
       "<div>\n",
       "<style scoped>\n",
       "    .dataframe tbody tr th:only-of-type {\n",
       "        vertical-align: middle;\n",
       "    }\n",
       "\n",
       "    .dataframe tbody tr th {\n",
       "        vertical-align: top;\n",
       "    }\n",
       "\n",
       "    .dataframe thead th {\n",
       "        text-align: right;\n",
       "    }\n",
       "</style>\n",
       "<table border=\"1\" class=\"dataframe\">\n",
       "  <thead>\n",
       "    <tr style=\"text-align: right;\">\n",
       "      <th></th>\n",
       "      <th>job</th>\n",
       "      <th>percent_job</th>\n",
       "      <th>count</th>\n",
       "    </tr>\n",
       "  </thead>\n",
       "  <tbody>\n",
       "    <tr>\n",
       "      <td>0</td>\n",
       "      <td>blue-collar</td>\n",
       "      <td>0.072750</td>\n",
       "      <td>9732</td>\n",
       "    </tr>\n",
       "    <tr>\n",
       "      <td>7</td>\n",
       "      <td>entrepreneur</td>\n",
       "      <td>0.082717</td>\n",
       "      <td>1487</td>\n",
       "    </tr>\n",
       "    <tr>\n",
       "      <td>9</td>\n",
       "      <td>housemaid</td>\n",
       "      <td>0.087903</td>\n",
       "      <td>1240</td>\n",
       "    </tr>\n",
       "    <tr>\n",
       "      <td>4</td>\n",
       "      <td>services</td>\n",
       "      <td>0.088830</td>\n",
       "      <td>4154</td>\n",
       "    </tr>\n",
       "    <tr>\n",
       "      <td>2</td>\n",
       "      <td>technician</td>\n",
       "      <td>0.110570</td>\n",
       "      <td>7597</td>\n",
       "    </tr>\n",
       "    <tr>\n",
       "      <td>11</td>\n",
       "      <td>unknown</td>\n",
       "      <td>0.118056</td>\n",
       "      <td>288</td>\n",
       "    </tr>\n",
       "    <tr>\n",
       "      <td>6</td>\n",
       "      <td>self-employed</td>\n",
       "      <td>0.118429</td>\n",
       "      <td>1579</td>\n",
       "    </tr>\n",
       "    <tr>\n",
       "      <td>3</td>\n",
       "      <td>admin.</td>\n",
       "      <td>0.122027</td>\n",
       "      <td>5171</td>\n",
       "    </tr>\n",
       "    <tr>\n",
       "      <td>1</td>\n",
       "      <td>management</td>\n",
       "      <td>0.137556</td>\n",
       "      <td>9458</td>\n",
       "    </tr>\n",
       "    <tr>\n",
       "      <td>8</td>\n",
       "      <td>unemployed</td>\n",
       "      <td>0.155027</td>\n",
       "      <td>1303</td>\n",
       "    </tr>\n",
       "    <tr>\n",
       "      <td>5</td>\n",
       "      <td>retired</td>\n",
       "      <td>0.227915</td>\n",
       "      <td>2264</td>\n",
       "    </tr>\n",
       "    <tr>\n",
       "      <td>10</td>\n",
       "      <td>student</td>\n",
       "      <td>0.286780</td>\n",
       "      <td>938</td>\n",
       "    </tr>\n",
       "  </tbody>\n",
       "</table>\n",
       "</div>"
      ],
      "text/plain": [
       "              job  percent_job  count\n",
       "0     blue-collar     0.072750   9732\n",
       "7    entrepreneur     0.082717   1487\n",
       "9       housemaid     0.087903   1240\n",
       "4        services     0.088830   4154\n",
       "2      technician     0.110570   7597\n",
       "11        unknown     0.118056    288\n",
       "6   self-employed     0.118429   1579\n",
       "3          admin.     0.122027   5171\n",
       "1      management     0.137556   9458\n",
       "8      unemployed     0.155027   1303\n",
       "5         retired     0.227915   2264\n",
       "10        student     0.286780    938"
      ]
     },
     "execution_count": 9,
     "metadata": {},
     "output_type": "execute_result"
    }
   ],
   "source": [
    "# 取出某欄位的每個類別值，算出命中率\n",
    "# train_df 填入要計算的表格\n",
    "train_df=df\n",
    "# col 填入要計算的欄位\n",
    "col=\"job\"\n",
    "\n",
    "col_count=train_df[col].value_counts()\n",
    "per_cate=[]\n",
    "# 取出每個類別值，算出命中率\n",
    "for i in col_count.index:\n",
    "    find=train_df[train_df[col]==i]\n",
    "    true=find[find.y == 1]\n",
    "    per=len(true)/len(find)\n",
    "    per_cate.append(per)\n",
    "    \n",
    "percent=\"percent_\"+col\n",
    "test = pd.DataFrame(columns=[col, percent])\n",
    "test[col]=col_count.index\n",
    "test[percent]=per_cate\n",
    "test[\"count\"]=col_count.values\n",
    "test=test.sort_values(by=percent)\n",
    "test"
   ]
  },
  {
   "cell_type": "code",
   "execution_count": 10,
   "metadata": {
    "scrolled": true
   },
   "outputs": [
    {
     "data": {
      "image/png": "[encoded data removed]",
      "text/plain": [
       "<Figure size 360x288 with 1 Axes>"
      ]
     },
     "metadata": {
      "needs_background": "light"
     },
     "output_type": "display_data"
    }
   ],
   "source": [
    "#長條圖 (跟上面一段共享變數)\n",
    "import matplotlib.pyplot as plt\n",
    "plt.figure(figsize=(5,4))\n",
    "\n",
    "# test=test.sort_values(by=col)\n",
    "\n",
    "x_list=test[col]\n",
    "y_list=test[percent].apply(lambda x : round(x,3))\n",
    "\n",
    "\n",
    "p1 = plt.barh(x_list,y_list)\n",
    "\n",
    "for x,y in enumerate(y_list):\n",
    "    plt.text(y+0.005,x,'%s' %y)\n",
    "\n",
    "plt.ylabel(col,fontsize=10)\n",
    "plt.xlabel('Y_percent',fontsize=10)\n",
    "plt.title(col+\" / \"+'Y_percent',fontsize=10)\n",
    "plt.show()"
   ]
  },
  {
   "cell_type": "code",
   "execution_count": 11,
   "metadata": {},
   "outputs": [
    {
     "data": {
      "image/png": "[encoded data removed]",
      "text/plain": [
       "<Figure size 1080x360 with 1 Axes>"
      ]
     },
     "metadata": {
      "needs_background": "light"
     },
     "output_type": "display_data"
    }
   ],
   "source": [
    "#線性圖 (跟上面一段共享變數)\n",
    "\n",
    "import matplotlib.pyplot as plt\n",
    "plt.figure(figsize=(15,5))\n",
    "\n",
    "# test=test.sort_values(by=col)\n",
    "\n",
    "x_list=test[col]\n",
    "y_list_all=test[percent].apply(lambda x : round(x*100, 2) )\n",
    "\n",
    "plt.ylabel('Y_percent',fontsize=11)\n",
    "plt.xlabel(col,fontsize=11)\n",
    "# plt.title(col+' distribution',fontsize=15)\n",
    "for x,y in enumerate(y_list_all):\n",
    "    plt.text(x,y+0.5,'%s%s' %(y,\"%\"),ha='center')\n",
    "\n",
    "plt.plot(x_list,y_list_all, \"p--m\")\n",
    "\n",
    "plt.show()"
   ]
  },
  {
   "cell_type": "code",
   "execution_count": 12,
   "metadata": {
    "scrolled": true
   },
   "outputs": [
    {
     "data": {
      "text/plain": [
       "<matplotlib.axes._subplots.AxesSubplot at 0x1be2fc18>"
      ]
     },
     "execution_count": 12,
     "metadata": {},
     "output_type": "execute_result"
    },
    {
     "data": {
      "image/png": "[encoded data removed]",
      "text/plain": [
       "<Figure size 1800x1800 with 2 Axes>"
      ]
     },
     "metadata": {
      "needs_background": "light"
     },
     "output_type": "display_data"
    }
   ],
   "source": [
    "# 處理前的皮爾遜相關係數\n",
    "import matplotlib.pyplot as plt\n",
    "%matplotlib inline\n",
    "import seaborn as sns\n",
    "\n",
    "plt.figure(figsize=(25, 25))\n",
    "sns.heatmap(df.corr(), annot=True, cmap=\"RdBu_r\")"
   ]
  },
  {
   "cell_type": "code",
   "execution_count": 13,
   "metadata": {},
   "outputs": [
    {
     "name": "stdout",
     "output_type": "stream",
     "text": [
      "-1962.0\n",
      "3462.0\n"
     ]
    }
   ],
   "source": [
    "# 四分位，for極值處理\n",
    "import numpy as np\n",
    "Percentile = np.percentile(df[\"balance\"],[0,25,50,75,100])\n",
    "IQR = Percentile[3] - Percentile[1]\n",
    "UpLimit = Percentile[3]+IQR*1.5\n",
    "DownLimit = Percentile[1]-IQR*1.5\n",
    "print(DownLimit)\n",
    "print(UpLimit)"
   ]
  },
  {
   "cell_type": "code",
   "execution_count": 14,
   "metadata": {},
   "outputs": [
    {
     "data": {
      "text/plain": [
       "'欄位處理'"
      ]
     },
     "execution_count": 14,
     "metadata": {},
     "output_type": "execute_result"
    }
   ],
   "source": [
    "'''欄位處理'''"
   ]
  },
  {
   "cell_type": "code",
   "execution_count": 15,
   "metadata": {},
   "outputs": [
    {
     "data": {
      "text/plain": [
       "Index(['age', 'job', 'marital', 'education', 'default', 'balance', 'housing',\n",
       "       'loan', 'contact', 'day', 'month', 'duration', 'campaign', 'pdays',\n",
       "       'previous', 'poutcome', 'y'],\n",
       "      dtype='object')"
      ]
     },
     "execution_count": 15,
     "metadata": {},
     "output_type": "execute_result"
    }
   ],
   "source": [
    "df.columns"
   ]
  },
  {
   "cell_type": "code",
   "execution_count": 16,
   "metadata": {},
   "outputs": [],
   "source": [
    "# age 按照工作類型熟練成4個類別，ont hot\n",
    "\n",
    "def agesplit(s):    \n",
    "    if s in range(0,31):\n",
    "        return \"young_age\"\n",
    "    if s in range(31,61):\n",
    "        return \"middle_age\"\n",
    "    if s >= 61:\n",
    "        return \"old_age\"\n",
    "\n",
    "\n",
    "n =df[\"age\"].apply(agesplit)\n",
    "dummy = pd.get_dummies(n)\n",
    "df = pd.concat([df, dummy], axis=1)"
   ]
  },
  {
   "cell_type": "code",
   "execution_count": 17,
   "metadata": {},
   "outputs": [],
   "source": [
    "# job 按照工作類型熟練成4個類別，ont hot\n",
    "\n",
    "def jobsplit(s):\n",
    "    # 勞動力(藍領階級)\n",
    "    blue_collar = [\"blue-collar\",\"services\",\"housemaid\"]\n",
    "    # 管理階層\n",
    "    white_collar = [\"management\",\"admin.\",\"technician\"]\n",
    "    # 創業家\n",
    "    self_employed = [\"entrepreneur\",\"self-employed\"]\n",
    "    # 無工作\n",
    "    unemployed= [\"retired\",\"unemployed\",\"student\"]\n",
    "    \n",
    "    if s in blue_collar:\n",
    "        return \"blue_collar\"\n",
    "    if s in white_collar:\n",
    "        return \"white_collar\"\n",
    "    if s in self_employed:\n",
    "        return \"self_employed\"\n",
    "    if s in unemployed:\n",
    "        return \"unemployed\"\n",
    "    else:\n",
    "        return \"X\"\n",
    "n = df[\"job\"].apply(jobsplit)\n",
    "dummy = pd.get_dummies(n)\n",
    "df = pd.concat([df, dummy], axis=1)\n",
    "df = df.drop(columns=\"X\")"
   ]
  },
  {
   "cell_type": "code",
   "execution_count": 18,
   "metadata": {},
   "outputs": [],
   "source": [
    "# marital 婚姻狀況 ont hot\n",
    "n = df[\"marital\"]\n",
    "dummy = pd.get_dummies(n)\n",
    "df = pd.concat([df, dummy], axis=1)"
   ]
  },
  {
   "cell_type": "code",
   "execution_count": 19,
   "metadata": {},
   "outputs": [],
   "source": [
    "# education mean encording 排名，unknown放在中位數\n",
    "def edu_value(s):\n",
    "    if s == \"primary\":\n",
    "        return 1\n",
    "    if s == \"secondary\":\n",
    "        return 2\n",
    "    if s == \"tertiary\":\n",
    "        return 3\n",
    "    if s == \"unknown\":\n",
    "        return 2\n",
    "df[\"edu_value\"]=df.education.apply(edu_value)"
   ]
  },
  {
   "cell_type": "code",
   "execution_count": 20,
   "metadata": {},
   "outputs": [],
   "source": [
    "#  balance處理離群值 四分位數 IQR*1.5\n",
    "\n",
    "def balance_cut(s):\n",
    "    if s <(-1962):\n",
    "        return(-1962)\n",
    "    if s > 3462:\n",
    "        return 3462\n",
    "    else:\n",
    "        return s\n",
    "\n",
    "df[\"balance_new\"]=df[\"balance\"].apply(balance_cut)"
   ]
  },
  {
   "cell_type": "code",
   "execution_count": 21,
   "metadata": {},
   "outputs": [],
   "source": [
    "# contact 通訊类型 dummy 只留手機\n",
    "n = df[\"contact\"]\n",
    "dummy = pd.get_dummies(n)\n",
    "df = pd.concat([df, dummy], axis=1)\n",
    "df = df.drop(columns=\"unknown\")\n",
    "df = df.drop(columns=\"telephone\")"
   ]
  },
  {
   "cell_type": "code",
   "execution_count": 22,
   "metadata": {},
   "outputs": [],
   "source": [
    "# campaign 在此廣告期間此客戶的總聯繫數量，故需要減 1\n",
    "# 用四分位數去離群值\n",
    "\n",
    "campaign=df.campaign.apply(lambda x : x-1)\n",
    "campaign=campaign.apply(lambda x : 6 if x > 5 else x)\n",
    "df[\"campaign_new\"]=campaign"
   ]
  },
  {
   "cell_type": "code",
   "execution_count": 23,
   "metadata": {},
   "outputs": [],
   "source": [
    "# pdays 四分位 one hot 去掉-1\n",
    "# df[df.pdays!=(-1)].pdays.describe()\n",
    "# 25%       133.000000\n",
    "# 50%       194.000000\n",
    "# 75%       327.000000\n",
    "\n",
    "def pdayssplit(s):    \n",
    "    if s in range(0,133):\n",
    "        return \"pdays_IQR_1\"\n",
    "    if s in range(133,194):\n",
    "        return \"pdays_IQR_2\"\n",
    "    if s in range(194,327):\n",
    "        return \"pdays_IQR_3\"\n",
    "    if s >= 327:\n",
    "        return \"pdays_IQR_4\"\n",
    "    if s == -1:\n",
    "        return \"uncontacted\"\n",
    "\n",
    "n = df[\"pdays\"].apply(pdayssplit)\n",
    "dummy = pd.get_dummies(n)\n",
    "df = pd.concat([df, dummy], axis=1)"
   ]
  },
  {
   "cell_type": "code",
   "execution_count": 24,
   "metadata": {},
   "outputs": [
    {
     "name": "stdout",
     "output_type": "stream",
     "text": [
      "-3.5\n",
      "8.5\n"
     ]
    }
   ],
   "source": [
    "# 四分位，for極值處理 previous \n",
    "import numpy as np\n",
    "Percentile = np.percentile(df[df[\"previous\"]!= 0][\"previous\"],[0,25,50,75,100])\n",
    "IQR = Percentile[3] - Percentile[1]\n",
    "UpLimit = Percentile[3]+IQR*1.5\n",
    "DownLimit = Percentile[1]-IQR*1.5\n",
    "print(DownLimit)\n",
    "print(UpLimit)"
   ]
  },
  {
   "cell_type": "code",
   "execution_count": 25,
   "metadata": {},
   "outputs": [],
   "source": [
    "# previous   處理離群值 四分位數 IQR*1.5\n",
    "\n",
    "df[\"previous_new\"]=df[\"previous\"].apply(lambda x : 9 if x > 8 else x)"
   ]
  },
  {
   "cell_type": "code",
   "execution_count": 26,
   "metadata": {},
   "outputs": [],
   "source": [
    "# poutcome 只取 success，忽略失敗跟other\n",
    "df[\"poutcome_success\"]=df[\"poutcome\"].apply(lambda x : 1 if x ==\"success\" else 0)"
   ]
  },
  {
   "cell_type": "code",
   "execution_count": null,
   "metadata": {},
   "outputs": [],
   "source": []
  },
  {
   "cell_type": "code",
   "execution_count": 27,
   "metadata": {},
   "outputs": [
    {
     "data": {
      "text/plain": [
       "'新增欄位'"
      ]
     },
     "execution_count": 27,
     "metadata": {},
     "output_type": "execute_result"
    }
   ],
   "source": [
    "'''新增欄位'''"
   ]
  },
  {
   "cell_type": "code",
   "execution_count": 28,
   "metadata": {},
   "outputs": [],
   "source": [
    "# 把 housing跟loan相加成新的負債欄位\n",
    "personal_info=df[['housing','loan']]\n",
    "df[\"loan_sum\"] = personal_info[personal_info==1].count(axis=1)"
   ]
  },
  {
   "cell_type": "code",
   "execution_count": 29,
   "metadata": {},
   "outputs": [
    {
     "name": "stderr",
     "output_type": "stream",
     "text": [
      "d:\\python\\lib\\site-packages\\pandas\\core\\ops\\__init__.py:1115: FutureWarning: elementwise comparison failed; returning scalar instead, but in the future will perform elementwise comparison\n",
      "  result = method(y)\n"
     ]
    }
   ],
   "source": [
    "#unknown的處理， 計算每行的unknown是多少（base on個人資料）\n",
    "personal_info=df[['age', 'job', 'marital', 'education', 'default', 'balance', 'housing','loan',\"contact\"]]\n",
    "df[\"unknown_sum\"] = personal_info[personal_info==\"unknown\"].count(axis=1)"
   ]
  },
  {
   "cell_type": "code",
   "execution_count": null,
   "metadata": {},
   "outputs": [],
   "source": []
  },
  {
   "cell_type": "code",
   "execution_count": 30,
   "metadata": {},
   "outputs": [
    {
     "data": {
      "text/plain": [
       "'模型前預處理'"
      ]
     },
     "execution_count": 30,
     "metadata": {},
     "output_type": "execute_result"
    }
   ],
   "source": [
    "'''模型前預處理'''"
   ]
  },
  {
   "cell_type": "code",
   "execution_count": 31,
   "metadata": {},
   "outputs": [
    {
     "data": {
      "text/plain": [
       "Index(['age', 'job', 'marital', 'education', 'default', 'balance', 'housing',\n",
       "       'loan', 'contact', 'day', 'month', 'duration', 'campaign', 'pdays',\n",
       "       'previous', 'poutcome', 'y', 'middle_age', 'old_age', 'young_age',\n",
       "       'blue_collar', 'self_employed', 'unemployed', 'white_collar',\n",
       "       'divorced', 'married', 'single', 'edu_value', 'balance_new', 'cellular',\n",
       "       'campaign_new', 'pdays_IQR_1', 'pdays_IQR_2', 'pdays_IQR_3',\n",
       "       'pdays_IQR_4', 'uncontacted', 'previous_new', 'poutcome_success',\n",
       "       'loan_sum', 'unknown_sum'],\n",
       "      dtype='object')"
      ]
     },
     "execution_count": 31,
     "metadata": {},
     "output_type": "execute_result"
    }
   ],
   "source": [
    "df.columns"
   ]
  },
  {
   "cell_type": "code",
   "execution_count": 32,
   "metadata": {},
   "outputs": [],
   "source": [
    "df=df.drop(columns=['age', 'job', 'marital', 'education','balance', 'housing'\n",
    "                    ,'loan','contact', 'day', 'month', 'duration', 'campaign'\n",
    "                    , 'pdays','previous', 'poutcome'])"
   ]
  },
  {
   "cell_type": "code",
   "execution_count": 33,
   "metadata": {},
   "outputs": [],
   "source": [
    "#分成 train test\n",
    "from sklearn.model_selection import train_test_split\n",
    "x=df.drop(columns=['y'])\n",
    "y=df[\"y\"]\n",
    "x_train, x_test, y_train, y_test = train_test_split(x,y, test_size=0.3)"
   ]
  },
  {
   "cell_type": "code",
   "execution_count": 34,
   "metadata": {},
   "outputs": [],
   "source": [
    "# # 數據標準化\n",
    "# from sklearn.preprocessing import MinMaxScaler\n",
    "# scaler = MinMaxScaler()\n",
    "# x_train = scaler.fit_transform(x_train)\n",
    "# x_test = scaler.transform(x_test)"
   ]
  },
  {
   "cell_type": "code",
   "execution_count": 35,
   "metadata": {},
   "outputs": [
    {
     "data": {
      "text/plain": [
       "25"
      ]
     },
     "execution_count": 35,
     "metadata": {},
     "output_type": "execute_result"
    }
   ],
   "source": [
    "len(df.columns)"
   ]
  },
  {
   "cell_type": "code",
   "execution_count": 36,
   "metadata": {},
   "outputs": [
    {
     "data": {
      "text/plain": [
       "'lightgbm'"
      ]
     },
     "execution_count": 36,
     "metadata": {},
     "output_type": "execute_result"
    }
   ],
   "source": [
    "'''lightgbm'''"
   ]
  },
  {
   "cell_type": "code",
   "execution_count": 41,
   "metadata": {},
   "outputs": [],
   "source": [
    "import lightgbm as lgb\n",
    "from sklearn.metrics import * \n",
    "dtrain = lgb.Dataset(x_train, y_train, free_raw_data = False)\n",
    "dvalid = lgb.Dataset(x_test, y_test, free_raw_data = False, reference=dtrain )"
   ]
  },
  {
   "cell_type": "code",
   "execution_count": null,
   "metadata": {},
   "outputs": [],
   "source": []
  },
  {
   "cell_type": "code",
   "execution_count": 120,
   "metadata": {},
   "outputs": [
    {
     "name": "stdout",
     "output_type": "stream",
     "text": [
      "Best parameters:\n",
      "{'criterion': 'gbdt', 'max_depth': 10, 'min_data_in_leaf': 40, 'num_leaves': 10}\n"
     ]
    },
    {
     "name": "stderr",
     "output_type": "stream",
     "text": [
      "d:\\python\\lib\\site-packages\\lightgbm\\engine.py:148: UserWarning: Found `num_boost_round` in params. Will use it instead of argument\n",
      "  warnings.warn(\"Found `{}` in params. Will use it instead of argument\".format(alias))\n"
     ]
    }
   ],
   "source": [
    "from sklearn.model_selection import GridSearchCV\n",
    "\n",
    "tuned_parameter = [{\"criterion\":[\"gbdt\",\"dart\"],\n",
    "                    'max_depth':range(10,20,1),\n",
    "                    'min_data_in_leaf': range(10,50,10),\n",
    "                    'num_leaves' : range(10,50,10)\n",
    "                    \n",
    "                  }]\n",
    "\n",
    "\n",
    "estimator=lgb.LGBMClassifier(\n",
    "                            num_boost_round=15,\n",
    "                            objective='binary',\n",
    "                            metric='auc',\n",
    "                            is_unbalance = 'true'\n",
    "               )\n",
    "\n",
    "#設置交叉驗證\n",
    "clf = GridSearchCV(estimator , param_grid=tuned_parameter , cv=5, n_jobs=-1)\n",
    "clf.fit(x_train, y_train)\n",
    "\n",
    "print('Best parameters:')\n",
    "print(clf.best_params_)"
   ]
  },
  {
   "cell_type": "code",
   "execution_count": 42,
   "metadata": {},
   "outputs": [],
   "source": [
    "#看f1_score 評分\n",
    "def evalerror(preds, dtrain):\n",
    "    labels = dtrain.get_label()\n",
    "    labels=pd.Series(labels)\n",
    "    preds=pd.Series(preds).apply(lambda x : 1 if x>0.5 else 0)\n",
    "    f_score = f1_score(labels , preds)\n",
    "    return 'f1_score', f_score, True"
   ]
  },
  {
   "cell_type": "code",
   "execution_count": 161,
   "metadata": {},
   "outputs": [],
   "source": [
    "params = {\n",
    "        'objective': 'binary',\n",
    "        'metric': 'auc',\n",
    "        'boosting_type': 'gbdt',\n",
    "        'learning_rate': 0.1,      \n",
    "        'max_depth': 10,          \n",
    "        'min_data_in_leaf': 40,      \n",
    "        'num_leaves' : 50,         # 經過人工微調後，發現50更準\n",
    "        'verbose': 1,\n",
    "        'is_unbalance': 'true',\n",
    "}"
   ]
  },
  {
   "cell_type": "code",
   "execution_count": 163,
   "metadata": {},
   "outputs": [
    {
     "name": "stdout",
     "output_type": "stream",
     "text": [
      "[1]\ttrain's auc: 0.765746\ttrain's f1_score: 0\teval's auc: 0.743809\teval's f1_score: 0\n",
      "[2]\ttrain's auc: 0.774916\ttrain's f1_score: 0\teval's auc: 0.75054\teval's f1_score: 0\n",
      "[3]\ttrain's auc: 0.779797\ttrain's f1_score: 0\teval's auc: 0.75205\teval's f1_score: 0\n",
      "[4]\ttrain's auc: 0.782663\ttrain's f1_score: 0\teval's auc: 0.753947\teval's f1_score: 0\n",
      "[5]\ttrain's auc: 0.784778\ttrain's f1_score: 0\teval's auc: 0.754265\teval's f1_score: 0\n",
      "[6]\ttrain's auc: 0.786542\ttrain's f1_score: 0.29127\teval's auc: 0.753935\teval's f1_score: 0.279362\n",
      "[7]\ttrain's auc: 0.788611\ttrain's f1_score: 0.292652\teval's auc: 0.75502\teval's f1_score: 0.279362\n",
      "[8]\ttrain's auc: 0.789611\ttrain's f1_score: 0.378994\teval's auc: 0.755018\teval's f1_score: 0.365392\n",
      "[9]\ttrain's auc: 0.790822\ttrain's f1_score: 0.399625\teval's auc: 0.755886\teval's f1_score: 0.393338\n",
      "[10]\ttrain's auc: 0.792172\ttrain's f1_score: 0.416667\teval's auc: 0.756924\teval's f1_score: 0.409357\n",
      "[11]\ttrain's auc: 0.793216\ttrain's f1_score: 0.423032\teval's auc: 0.756906\teval's f1_score: 0.420178\n",
      "[12]\ttrain's auc: 0.795199\ttrain's f1_score: 0.424555\teval's auc: 0.756548\teval's f1_score: 0.421232\n"
     ]
    }
   ],
   "source": [
    "evals_result = {}\n",
    "gbm = lgb.train(params, \n",
    "                      dtrain, \n",
    "                      num_boost_round=12,       # 先設定20，再根據出來的值選出最佳\n",
    "                      valid_sets=[dtrain,dvalid],\n",
    "                      valid_names=['train', 'eval'],\n",
    "                      feval = evalerror,\n",
    "                      evals_result = evals_result\n",
    "               )"
   ]
  },
  {
   "cell_type": "code",
   "execution_count": 178,
   "metadata": {},
   "outputs": [
    {
     "name": "stdout",
     "output_type": "stream",
     "text": [
      "f1 score :  42.455494168201355 %\n",
      "正確率: 0.8518974942332607\n"
     ]
    },
    {
     "data": {
      "text/html": [
       "<div>\n",
       "<style scoped>\n",
       "    .dataframe tbody tr th:only-of-type {\n",
       "        vertical-align: middle;\n",
       "    }\n",
       "\n",
       "    .dataframe tbody tr th {\n",
       "        vertical-align: top;\n",
       "    }\n",
       "\n",
       "    .dataframe thead th {\n",
       "        text-align: right;\n",
       "    }\n",
       "</style>\n",
       "<table border=\"1\" class=\"dataframe\">\n",
       "  <thead>\n",
       "    <tr style=\"text-align: right;\">\n",
       "      <th></th>\n",
       "      <th>0</th>\n",
       "      <th>1</th>\n",
       "    </tr>\n",
       "  </thead>\n",
       "  <tbody>\n",
       "    <tr>\n",
       "      <td>0</td>\n",
       "      <td>25231</td>\n",
       "      <td>2743</td>\n",
       "    </tr>\n",
       "    <tr>\n",
       "      <td>1</td>\n",
       "      <td>1944</td>\n",
       "      <td>1729</td>\n",
       "    </tr>\n",
       "  </tbody>\n",
       "</table>\n",
       "</div>"
      ],
      "text/plain": [
       "       0     1\n",
       "0  25231  2743\n",
       "1   1944  1729"
      ]
     },
     "execution_count": 178,
     "metadata": {},
     "output_type": "execute_result"
    }
   ],
   "source": [
    "pre_train = gbm.predict(x_train)\n",
    "pre_train=pd.Series(pre_train).apply(lambda x : 1 if x>0.5 else 0)\n",
    "print(\"f1 score : \", f1_score(y_train, pre_train)* 100, \"%\")\n",
    "print(\"正確率:\", accuracy_score(pre_train, y_train))\n",
    "pd.DataFrame(confusion_matrix(y_train, pre_train))"
   ]
  },
  {
   "cell_type": "code",
   "execution_count": 184,
   "metadata": {},
   "outputs": [
    {
     "name": "stdout",
     "output_type": "stream",
     "text": [
      "f1 score :  42.12319046267386 %\n",
      "正確率: 0.8496756119138897\n"
     ]
    },
    {
     "data": {
      "text/html": [
       "<div>\n",
       "<style scoped>\n",
       "    .dataframe tbody tr th:only-of-type {\n",
       "        vertical-align: middle;\n",
       "    }\n",
       "\n",
       "    .dataframe tbody tr th {\n",
       "        vertical-align: top;\n",
       "    }\n",
       "\n",
       "    .dataframe thead th {\n",
       "        text-align: right;\n",
       "    }\n",
       "</style>\n",
       "<table border=\"1\" class=\"dataframe\">\n",
       "  <thead>\n",
       "    <tr style=\"text-align: right;\">\n",
       "      <th></th>\n",
       "      <th>0</th>\n",
       "      <th>1</th>\n",
       "    </tr>\n",
       "  </thead>\n",
       "  <tbody>\n",
       "    <tr>\n",
       "      <td>0</td>\n",
       "      <td>10783</td>\n",
       "      <td>1165</td>\n",
       "    </tr>\n",
       "    <tr>\n",
       "      <td>1</td>\n",
       "      <td>874</td>\n",
       "      <td>742</td>\n",
       "    </tr>\n",
       "  </tbody>\n",
       "</table>\n",
       "</div>"
      ],
      "text/plain": [
       "       0     1\n",
       "0  10783  1165\n",
       "1    874   742"
      ]
     },
     "execution_count": 184,
     "metadata": {},
     "output_type": "execute_result"
    }
   ],
   "source": [
    "pre_test = gbm.predict(x_test)\n",
    "pre_pro=pd.Series(pre_test).apply(lambda x: 1 if x>0.5 else 0)\n",
    "print(\"f1 score : \", f1_score(y_test, pre_pro)* 100, \"%\")\n",
    "print(\"正確率:\", accuracy_score(pre_pro, y_test))\n",
    "pd.DataFrame(confusion_matrix(y_test, pre_pro))"
   ]
  },
  {
   "cell_type": "code",
   "execution_count": null,
   "metadata": {},
   "outputs": [],
   "source": []
  }
 ],
 "metadata": {
  "kernelspec": {
   "display_name": "Python 3",
   "language": "python",
   "name": "python3"
  },
  "language_info": {
   "codemirror_mode": {
    "name": "ipython",
    "version": 3
   },
   "file_extension": ".py",
   "mimetype": "text/x-python",
   "name": "python",
   "nbconvert_exporter": "python",
   "pygments_lexer": "ipython3",
   "version": "3.7.1"
  }
 },
 "nbformat": 4,
 "nbformat_minor": 2
}
